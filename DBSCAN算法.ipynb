{
 "cells": [
  {
   "cell_type": "code",
   "execution_count": 1,
   "metadata": {
    "ExecuteTime": {
     "end_time": "2019-02-14T05:49:04.434950Z",
     "start_time": "2019-02-14T05:49:03.390696Z"
    }
   },
   "outputs": [],
   "source": [
    "#-*- coding:utf-8 -*-\n",
    "\n",
    "import math\n",
    "import numpy as np\n",
    "import pylab as pl"
   ]
  },
  {
   "cell_type": "code",
   "execution_count": 2,
   "metadata": {
    "ExecuteTime": {
     "end_time": "2019-02-14T05:49:23.151861Z",
     "start_time": "2019-02-14T05:49:23.143611Z"
    }
   },
   "outputs": [],
   "source": [
    " #数据集：每三个是一组分别是西瓜的编号，密度，含糖量\n",
    "data = \"\"\"\n",
    "1,0.697,0.46,2,0.774,0.376,3,0.634,0.264,4,0.608,0.318,5,0.556,0.215,\n",
    "6,0.403,0.237,7,0.481,0.149,8,0.437,0.211,9,0.666,0.091,10,0.243,0.267,\n",
    "11,0.245,0.057,12,0.343,0.099,13,0.639,0.161,14,0.657,0.198,15,0.36,0.37,\n",
    "16,0.593,0.042,17,0.719,0.103,18,0.359,0.188,19,0.339,0.241,20,0.282,0.257,\n",
    "21,0.748,0.232,22,0.714,0.346,23,0.483,0.312,24,0.478,0.437,25,0.525,0.369,\n",
    "26,0.751,0.489,27,0.532,0.472,28,0.473,0.376,29,0.725,0.445,30,0.446,0.459\"\"\"\n"
   ]
  },
  {
   "cell_type": "code",
   "execution_count": 3,
   "metadata": {
    "ExecuteTime": {
     "end_time": "2019-02-14T05:50:01.184680Z",
     "start_time": "2019-02-14T05:50:01.169927Z"
    }
   },
   "outputs": [],
   "source": [
    "#数据处理 dataset是30个样本（密度，含糖量）的列表\n",
    "a = data.split(',')\n",
    "dataset = [(float(a[i]), float(a[i+1])) for i in range(1, len(a)-1, 3)]"
   ]
  },
  {
   "cell_type": "code",
   "execution_count": 5,
   "metadata": {
    "ExecuteTime": {
     "end_time": "2019-02-14T05:50:36.806770Z",
     "start_time": "2019-02-14T05:50:36.796039Z"
    }
   },
   "outputs": [],
   "source": [
    "#计算欧几里得距离,a,b分别为两个元组\n",
    "#math.pow(x,y)计算的是x的y次方\n",
    "def dist(a, b):\n",
    "    return math.sqrt(math.pow(a[0]-b[0], 2)+math.pow(a[1]-b[1], 2))"
   ]
  },
  {
   "cell_type": "code",
   "execution_count": 12,
   "metadata": {
    "ExecuteTime": {
     "end_time": "2019-02-14T05:58:38.597975Z",
     "start_time": "2019-02-14T05:58:38.587376Z"
    }
   },
   "outputs": [],
   "source": [
    "#算法模型\n",
    "def DBSCAN(D, e, Minpts):\n",
    "    #初始化核心对象集合T,聚类个数k,聚类集合C, 未访问集合P,\n",
    "    T = set(); k = 0; C = []; P = set(D)\n",
    "    for d in D:\n",
    "        if len([ i for i in D if dist(d, i) <= e]) >= Minpts:\n",
    "            T.add(d)\n",
    "    #开始聚类\n",
    "    while len(T):\n",
    "        P_old = P\n",
    "        o = list(T)[np.random.randint(0, len(T))]\n",
    "        P = P - set(o)\n",
    "        Q = []; Q.append(o)\n",
    "        while len(Q):\n",
    "            q = Q[0]\n",
    "            Nq = [i for i in D if dist(q, i) <= e]\n",
    "            if len(Nq) >= Minpts:\n",
    "                S = P & set(Nq)\n",
    "                Q += (list(S))\n",
    "                P = P - S\n",
    "            Q.remove(q)\n",
    "        k += 1\n",
    "        Ck = list(P_old - P)\n",
    "        T = T - set(Ck)\n",
    "        C.append(Ck)\n",
    "    return C"
   ]
  },
  {
   "cell_type": "code",
   "execution_count": 13,
   "metadata": {
    "ExecuteTime": {
     "end_time": "2019-02-14T05:59:49.826593Z",
     "start_time": "2019-02-14T05:59:49.818985Z"
    }
   },
   "outputs": [],
   "source": [
    "#画图\n",
    "def draw(C):\n",
    "    colValue = ['r', 'y', 'g', 'b', 'c', 'k', 'm']\n",
    "    for i in range(len(C)):\n",
    "        coo_X = []    #x坐标列表\n",
    "        coo_Y = []    #y坐标列表\n",
    "        for j in range(len(C[i])):\n",
    "            coo_X.append(C[i][j][0])\n",
    "            coo_Y.append(C[i][j][1])\n",
    "        pl.scatter(coo_X, coo_Y, marker='x', color=colValue[i%len(colValue)], label=i)\n",
    "\n",
    "    pl.legend(loc='upper right')\n",
    "    pl.show()"
   ]
  },
  {
   "cell_type": "code",
   "execution_count": 14,
   "metadata": {
    "ExecuteTime": {
     "end_time": "2019-02-14T06:00:00.526452Z",
     "start_time": "2019-02-14T06:00:00.167956Z"
    }
   },
   "outputs": [
    {
     "data": {
      "image/png": "[encoded data removed]",
      "text/plain": [
       "<Figure size 432x288 with 1 Axes>"
      ]
     },
     "metadata": {
      "needs_background": "light"
     },
     "output_type": "display_data"
    }
   ],
   "source": [
    "C = DBSCAN(dataset, 0.11, 5)\n",
    "draw(C)"
   ]
  },
  {
   "cell_type": "code",
   "execution_count": null,
   "metadata": {},
   "outputs": [],
   "source": []
  }
 ],
 "metadata": {
  "kernelspec": {
   "display_name": "Python 3",
   "language": "python",
   "name": "python3"
  },
  "language_info": {
   "codemirror_mode": {
    "name": "ipython",
    "version": 3
   },
   "file_extension": ".py",
   "mimetype": "text/x-python",
   "name": "python",
   "nbconvert_exporter": "python",
   "pygments_lexer": "ipython3",
   "version": "3.7.0"
  }
 },
 "nbformat": 4,
 "nbformat_minor": 2
}
